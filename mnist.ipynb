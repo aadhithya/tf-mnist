{
  "nbformat": 4,
  "nbformat_minor": 0,
  "metadata": {
    "colab": {
      "name": "mnist.ipynb",
      "version": "0.3.2",
      "provenance": [],
      "collapsed_sections": []
    },
    "kernelspec": {
      "name": "python3",
      "display_name": "Python 3"
    },
    "accelerator": "GPU"
  },
  "cells": [
    {
      "metadata": {
        "id": "I1Gw1zIDtHHN",
        "colab_type": "code",
        "outputId": "3372741c-d3de-4b81-d124-a806b7540f61",
        "colab": {
          "base_uri": "https://localhost:8080/",
          "height": 34
        }
      },
      "cell_type": "code",
      "source": [
        "import tensorflow as tf\n",
        "\n",
        "import numpy as np\n",
        "import pandas as pd\n",
        "import time\n",
        "import matplotlib.pyplot as plt\n",
        "from collections import defaultdict\n",
        "from sklearn.model_selection import train_test_split\n",
        "from keras.utils.np_utils import to_categorical "
      ],
      "execution_count": 1,
      "outputs": [
        {
          "output_type": "stream",
          "text": [
            "Using TensorFlow backend.\n"
          ],
          "name": "stderr"
        }
      ]
    },
    {
      "metadata": {
        "id": "meMbSug_tOVc",
        "colab_type": "code",
        "outputId": "2f208580-2877-4587-a501-22d8f8e634b0",
        "colab": {
          "base_uri": "https://localhost:8080/",
          "height": 102
        }
      },
      "cell_type": "code",
      "source": [
        "#Load the data.\n",
        "train = pd.read_csv('sample_data/mnist_train_small.csv')\n",
        "test = pd.read_csv('sample_data/mnist_test.csv')\n",
        "\n",
        "x_train = np.array(train.iloc[:,1:]).astype(float)\n",
        "y_train = np.array(train.iloc[:,0])\n",
        "x_test = np.array(test.iloc[:,1:]).astype(float)\n",
        "#convert y to one hot encoding\n",
        "y_test = to_categorical(np.array(test.iloc[:,0]),10)\n",
        "\n",
        "x_train = x_train.reshape(x_train.shape[0],28,28,1)\n",
        "x_test = x_test.reshape(x_test.shape[0],28,28,1)\n",
        "\n",
        "#Split training and validation data\n",
        "x_train,x_val,y_train,y_val = train_test_split(x_train,y_train,test_size=0.33)\n",
        "\n",
        "#Convert y to one hot encoding\n",
        "y_train =to_categorical(y_train,10)\n",
        "y_val = to_categorical(y_val,10)\n",
        "\n",
        "\n",
        "print(f'X_train:{x_train.shape}')\n",
        "print(f'y_train:{y_train.shape}')\n",
        "print(f'X_val:{x_val.shape}')\n",
        "print(f'y_val:{y_val.shape}')\n",
        "print(f'X_test:{x_test.shape}')\n",
        "\n"
      ],
      "execution_count": 2,
      "outputs": [
        {
          "output_type": "stream",
          "text": [
            "X_train:(13399, 28, 28, 1)\n",
            "y_train:(13399, 10)\n",
            "X_val:(6600, 28, 28, 1)\n",
            "y_val:(6600, 10)\n",
            "X_test:(9999, 28, 28, 1)\n"
          ],
          "name": "stdout"
        }
      ]
    },
    {
      "metadata": {
        "id": "pSgaUNxm0KWM",
        "colab_type": "code",
        "outputId": "fb88eeab-4a4e-4501-e064-73b85cec5f7a",
        "colab": {
          "base_uri": "https://localhost:8080/",
          "height": 176
        }
      },
      "cell_type": "code",
      "source": [
        "im = x_train[0].squeeze()\n",
        "plt.figure(figsize=(2,2))\n",
        "plt.imshow(im, cmap='gray')"
      ],
      "execution_count": 3,
      "outputs": [
        {
          "output_type": "execute_result",
          "data": {
            "text/plain": [
              "<matplotlib.image.AxesImage at 0x7fb63a59f908>"
            ]
          },
          "metadata": {
            "tags": []
          },
          "execution_count": 3
        },
        {
          "output_type": "display_data",
          "data": {
            "image/png": "[encoded data removed]",
            "text/plain": [
              "<matplotlib.figure.Figure at 0x7fb63a76f4e0>"
            ]
          },
          "metadata": {
            "tags": []
          }
        }
      ]
    },
    {
      "metadata": {
        "id": "KWjMVqW6tYI-",
        "colab_type": "code",
        "colab": {}
      },
      "cell_type": "code",
      "source": [
        "class NN:\n",
        "\n",
        "  #Function to build the network\n",
        "  def build_nn(self):\n",
        "\n",
        "    tf.reset_default_graph()\n",
        "    with tf.variable_scope('modLeNet'):\n",
        "      #Placeholders for our X and Y tensors. \n",
        "      # 28,28,1 bevause image is 28x28 and grayscale(1 channel)\n",
        "      self.X = tf.placeholder(tf.float32, (None, 28, 28, 1),name='X')\n",
        "      self.y = tf.placeholder(tf.float32,shape=[None,10],name='y')\n",
        "\n",
        "      #LAyer 0\n",
        "      cw0 = tf.get_variable(name='cw_0',shape=[3,3,1,6],dtype=tf.float32)\n",
        "      conv0 = tf.nn.conv2d(self.X,cw0,[1,1,1,1],padding='SAME',name='conv_0')\n",
        "      act0 = tf.nn.relu(conv0,name='act_0')\n",
        "      pool0 = tf.nn.max_pool(act0,ksize=[1,2,2,1],strides = [1,2,2,1],name='pool_0',padding='VALID')\n",
        "\n",
        "      #Layer 1\n",
        "      cw1 = tf.get_variable(name='cw_1',shape=[5,5,6,16],dtype=tf.float32)\n",
        "      conv1 =  tf.nn.conv2d(pool0,cw1,strides=[1,1,1,1],padding='VALID',name='conv_1')\n",
        "      act1 = tf.nn.relu(conv1,name='act_1')\n",
        "      pool1 = tf.nn.max_pool(act1,ksize=[1,2,2,1],strides = [1,2,2,1],name='pool_0',padding='VALID')\n",
        "\n",
        "      #Layer 2 \n",
        "      flat_ip = tf.layers.flatten(pool1) #flatten the output of previous layer\n",
        "      w2 = tf.get_variable('w_2',shape=[400,120],dtype=tf.float32)\n",
        "      b2 = tf.get_variable('b_2', shape=[120],dtype=tf.float32)\n",
        "      \n",
        "      \n",
        "      fc_1 = flat_ip @ w2 + b2\n",
        "\n",
        "      act2 = tf.nn.relu(fc_1)\n",
        "\n",
        "      w3 = tf.get_variable('w_3',shape=[120,10],dtype=tf.float32)\n",
        "      b3 = tf.get_variable('b_3', shape=[10],dtype=tf.float32)\n",
        "\n",
        "      self.logits = act2 @ w3 + b3\n",
        "\n",
        "      sm_logits = tf.nn.softmax(self.logits)\n",
        "      \n",
        "      #Cross Entropy Loss Calculation\n",
        "      xent = tf.nn.softmax_cross_entropy_with_logits(labels = self.y, logits = self.logits, name='xent')\n",
        "      self.loss = tf.reduce_mean(xent)\n",
        "      \n",
        "      correct_prediction = tf.equal(tf.argmax(sm_logits, 1), tf.argmax(self.y, 1))\n",
        "      self.accuracy = tf.reduce_mean(tf.cast(correct_prediction, tf.float32))\n",
        "      \n",
        "      #We use ADAM here.\n",
        "      self.optimizer = tf.train.AdamOptimizer()\n",
        "\n",
        "      self.opt_op = self.optimizer.minimize(self.loss)\n",
        "\n"
      ],
      "execution_count": 0,
      "outputs": []
    },
    {
      "metadata": {
        "id": "CWfpHFaH_Ctp",
        "colab_type": "code",
        "colab": {
          "base_uri": "https://localhost:8080/",
          "height": 213
        },
        "outputId": "63378025-756c-43af-eaa7-5f1ceaf66f0b"
      },
      "cell_type": "code",
      "source": [
        "nn = NN()\n",
        "nn.build_nn()"
      ],
      "execution_count": 5,
      "outputs": [
        {
          "output_type": "stream",
          "text": [
            "WARNING:tensorflow:From <ipython-input-4-e0cfccef4e12>:39: softmax_cross_entropy_with_logits (from tensorflow.python.ops.nn_ops) is deprecated and will be removed in a future version.\n",
            "Instructions for updating:\n",
            "\n",
            "Future major versions of TensorFlow will allow gradients to flow\n",
            "into the labels input on backprop by default.\n",
            "\n",
            "See `tf.nn.softmax_cross_entropy_with_logits_v2`.\n",
            "\n"
          ],
          "name": "stdout"
        }
      ]
    },
    {
      "metadata": {
        "id": "S50_X-4SFHcK",
        "colab_type": "code",
        "outputId": "0cc0387f-9ee7-4ffd-874b-9fa7b2bdbc7c",
        "colab": {
          "base_uri": "https://localhost:8080/",
          "height": 148
        }
      },
      "cell_type": "code",
      "source": [
        "#Testing initial accuracy and loss of the model.\n",
        "s = tf.Session()\n",
        "s.run(tf.initialize_all_variables())\n",
        "train_loss, train_acc = s.run((nn.loss,nn.accuracy),feed_dict={nn.X:x_train,nn.y:y_train})\n",
        "val_loss, val_acc = s.run((nn.loss,nn.accuracy),feed_dict={nn.X:x_val,nn.y:y_val})\n",
        "\n",
        "print(f'Train Loss: {train_loss:.3f}, Train Acc: {train_acc:.3f}')\n",
        "print(f'Val Loss: {val_loss:.3f}, Val Acc: {val_acc:.3f}')"
      ],
      "execution_count": 6,
      "outputs": [
        {
          "output_type": "stream",
          "text": [
            "WARNING:tensorflow:From /usr/local/lib/python3.6/dist-packages/tensorflow/python/util/tf_should_use.py:189: initialize_all_variables (from tensorflow.python.ops.variables) is deprecated and will be removed after 2017-03-02.\n",
            "Instructions for updating:\n",
            "Use `tf.global_variables_initializer` instead.\n",
            "Train Loss: 56.058, Train Acc: 0.091\n",
            "Val Loss: 55.840, Val Acc: 0.087\n"
          ],
          "name": "stdout"
        }
      ]
    },
    {
      "metadata": {
        "id": "Jq6F3TqJMZ0m",
        "colab_type": "code",
        "colab": {}
      },
      "cell_type": "code",
      "source": [
        "hist = defaultdict(list)\n",
        "test_loss=0\n",
        "test_acc=0"
      ],
      "execution_count": 0,
      "outputs": []
    },
    {
      "metadata": {
        "id": "LbM0N5p6_poq",
        "colab_type": "code",
        "colab": {}
      },
      "cell_type": "code",
      "source": [
        "#Function to train network. We do full batch training here.\n",
        "def train():\n",
        "  \n",
        "  with tf.Session() as s:\n",
        "    s.run(tf.initialize_all_variables())\n",
        "    for i in range(300):\n",
        "      if (i+1)%25 == 0:\n",
        "        train_loss, train_acc = s.run((nn.loss,nn.accuracy),feed_dict={nn.X:x_train,nn.y:y_train})\n",
        "        val_loss, val_acc = s.run((nn.loss,nn.accuracy),feed_dict={nn.X:x_val,nn.y:y_val})\n",
        "        print(f'Iteration {i+1}')\n",
        "        print(f'Train Loss: {train_loss:.3f}, Train Acc: {train_acc:.3f}')\n",
        "        print(f'Val Loss: {val_loss:.3f}, Val Acc: {val_acc:.3f}')\n",
        "      #Run the optimazation step.\n",
        "      _ = s.run(nn.opt_op,feed_dict={nn.X:x_train,nn.y:y_train})\n",
        "      \n",
        "      train_loss, train_acc = s.run((nn.loss,nn.accuracy),feed_dict={nn.X:x_train,nn.y:y_train})\n",
        "      val_loss, val_acc = s.run((nn.loss,nn.accuracy),feed_dict={nn.X:x_val,nn.y:y_val})\n",
        "      \n",
        "      #Add the losses and accuracies to history\n",
        "      hist['train_loss'].append(train_loss)\n",
        "      hist['train_acc'].append(train_acc)\n",
        "      hist['val_loss'].append(val_loss)\n",
        "      hist['val_acc'].append(val_acc)\n",
        "      \n",
        "    test_loss, test_acc = s.run((nn.loss,nn.accuracy),feed_dict={nn.X:x_test,nn.y:y_test})\n",
        "    print(f'Test Loss: {test_loss}, Test Acc: {test_acc}')"
      ],
      "execution_count": 0,
      "outputs": []
    },
    {
      "metadata": {
        "id": "ikeINuDEK9GJ",
        "colab_type": "code",
        "outputId": "6f9dfe9a-8b82-41be-e61e-9246f911421e",
        "colab": {
          "base_uri": "https://localhost:8080/",
          "height": 646
        }
      },
      "cell_type": "code",
      "source": [
        "train()"
      ],
      "execution_count": 9,
      "outputs": [
        {
          "output_type": "stream",
          "text": [
            "Iteration 25\n",
            "Train Loss: 2.194, Train Acc: 0.661\n",
            "Val Loss: 2.171, Val Acc: 0.663\n",
            "Iteration 50\n",
            "Train Loss: 0.848, Train Acc: 0.834\n",
            "Val Loss: 0.887, Val Acc: 0.826\n",
            "Iteration 75\n",
            "Train Loss: 0.462, Train Acc: 0.898\n",
            "Val Loss: 0.549, Val Acc: 0.883\n",
            "Iteration 100\n",
            "Train Loss: 0.285, Train Acc: 0.931\n",
            "Val Loss: 0.411, Val Acc: 0.909\n",
            "Iteration 125\n",
            "Train Loss: 0.189, Train Acc: 0.952\n",
            "Val Loss: 0.346, Val Acc: 0.922\n",
            "Iteration 150\n",
            "Train Loss: 0.132, Train Acc: 0.967\n",
            "Val Loss: 0.312, Val Acc: 0.932\n",
            "Iteration 175\n",
            "Train Loss: 0.093, Train Acc: 0.975\n",
            "Val Loss: 0.293, Val Acc: 0.935\n",
            "Iteration 200\n",
            "Train Loss: 0.066, Train Acc: 0.983\n",
            "Val Loss: 0.283, Val Acc: 0.939\n",
            "Iteration 225\n",
            "Train Loss: 0.048, Train Acc: 0.989\n",
            "Val Loss: 0.278, Val Acc: 0.941\n",
            "Iteration 250\n",
            "Train Loss: 0.036, Train Acc: 0.992\n",
            "Val Loss: 0.274, Val Acc: 0.944\n",
            "Iteration 275\n",
            "Train Loss: 0.027, Train Acc: 0.995\n",
            "Val Loss: 0.273, Val Acc: 0.946\n",
            "Iteration 300\n",
            "Train Loss: 0.020, Train Acc: 0.997\n",
            "Val Loss: 0.272, Val Acc: 0.948\n",
            "Test Loss: 0.26306986808776855, Test Acc: 0.9466946721076965\n"
          ],
          "name": "stdout"
        }
      ]
    },
    {
      "metadata": {
        "id": "v3Am7zddLDWd",
        "colab_type": "code",
        "outputId": "51db76cf-cd39-4783-e9e4-61ab80b14d2e",
        "colab": {
          "base_uri": "https://localhost:8080/",
          "height": 497
        }
      },
      "cell_type": "code",
      "source": [
        "#Plot loss vs iteration\n",
        "plt.figure(figsize=(15,8))\n",
        "\n",
        "plt.plot(hist['train_loss'], color='green', label='train_loss')\n",
        "plt.plot(hist['val_loss'], color='red', label='val_loss')\n",
        "plt.xlabel('iterations')\n",
        "plt.ylabel('loss')\n",
        "\n",
        "plt.show()"
      ],
      "execution_count": 10,
      "outputs": [
        {
          "output_type": "display_data",
          "data": {
            "image/png": "[encoded data removed]",
            "text/plain": [
              "<matplotlib.figure.Figure at 0x7fb63733e9e8>"
            ]
          },
          "metadata": {
            "tags": []
          }
        }
      ]
    },
    {
      "metadata": {
        "id": "9YwCdw10MWkK",
        "colab_type": "code",
        "outputId": "3e6be83b-63d7-4388-c92c-d550dad60ffc",
        "colab": {
          "base_uri": "https://localhost:8080/",
          "height": 497
        }
      },
      "cell_type": "code",
      "source": [
        "#Plot accuracy vs iteration\n",
        "plt.figure(figsize=(15,8))\n",
        "\n",
        "plt.plot(hist['train_acc'], color='green', label='train_acc')\n",
        "plt.plot(hist['val_acc'], color='red', label='val_acc')\n",
        "plt.xlabel('iterations')\n",
        "plt.ylabel('accuracy')\n",
        "\n",
        "plt.show()"
      ],
      "execution_count": 11,
      "outputs": [
        {
          "output_type": "display_data",
          "data": {
            "image/png": "[encoded data removed]",
            "text/plain": [
              "<matplotlib.figure.Figure at 0x7fb63733e588>"
            ]
          },
          "metadata": {
            "tags": []
          }
        }
      ]
    },
    {
      "metadata": {
        "id": "tEZ6QiYeM8Tn",
        "colab_type": "code",
        "colab": {}
      },
      "cell_type": "code",
      "source": [
        ""
      ],
      "execution_count": 0,
      "outputs": []
    },
    {
      "metadata": {
        "id": "Ja_MrBDkOhFs",
        "colab_type": "code",
        "colab": {}
      },
      "cell_type": "code",
      "source": [
        ""
      ],
      "execution_count": 0,
      "outputs": []
    }
  ]
}